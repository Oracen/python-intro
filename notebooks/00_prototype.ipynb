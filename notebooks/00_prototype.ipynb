{
 "cells": [
  {
   "cell_type": "code",
   "execution_count": 1,
   "metadata": {},
   "outputs": [],
   "source": [
    "%load_ext autoreload\n",
    "%autoreload 2\n",
    "\n",
    "import pandas as pd\n",
    "import numpy as np\n",
    "\n",
    "from datasets import load_dataset\n",
    "from sklearn.metrics import classification_report\n",
    "\n",
    "from npc_gzip.compressors.base import BaseCompressor\n",
    "from npc_gzip.compressors.gzip_compressor import GZipCompressor\n",
    "from npc_gzip.knn_classifier import KnnClassifier\n",
    "\n"
   ]
  },
  {
   "cell_type": "markdown",
   "metadata": {},
   "source": [
    "# An interesting result\n",
    "![Red is where (bigger, more complex) models lose to a silly approach](../static/gzip-performance.png \"Results Table\")\n",
    "\n",
    "\n",
    "[A recent paper](https://aclanthology.org/2023.findings-acl.426.pdf) suggests you don't need big, complicated machine learning models for many simpler text classification tasks. We're going to test this in this notebook."
   ]
  },
  {
   "cell_type": "markdown",
   "metadata": {},
   "source": []
  },
  {
   "cell_type": "markdown",
   "metadata": {},
   "source": [
    "## Download Dataset"
   ]
  },
  {
   "cell_type": "code",
   "execution_count": 2,
   "metadata": {},
   "outputs": [
    {
     "name": "stdout",
     "output_type": "stream",
     "text": [
      "All labels: {0: 'World', 1: 'Sports', 2: 'Business', 3: 'Sci/Tech'}\n",
      "\n"
     ]
    }
   ],
   "source": [
    "dataset = load_dataset(\"ag_news\")\n",
    "\n",
    "X_train = np.array(dataset['train']['text'])  # type: ignore\n",
    "X_test = np.array(dataset['test']['text']) # type: ignore\n",
    "y_train = np.array(dataset['train']['label']) # type: ignore\n",
    "y_test = np.array(dataset['test']['label']) # type: ignore\n",
    "\n",
    "label_map = {\n",
    "    idx: name\n",
    "    for idx, name\n",
    "    in enumerate(dataset[\"train\"].features['label'].names) # type:ignore\n",
    "}\n",
    "print(f\"All labels: {label_map}\", end=\"\\n\\n\")"
   ]
  },
  {
   "cell_type": "code",
   "execution_count": 3,
   "metadata": {},
   "outputs": [
    {
     "name": "stdout",
     "output_type": "stream",
     "text": [
      "Training sample:  Wall St. Bears Claw Back Into the Black (Reuters) Reuters - Short-sellers, Wall Street's dwindling\\band of ultra-cynics, are seeing green again.\n",
      "Label: 2 (Business)\n"
     ]
    }
   ],
   "source": [
    "print(\"Training sample: \", X_train[0])\n",
    "print(f\"Label: {y_train[0]} ({label_map[y_train[0]]})\")"
   ]
  },
  {
   "cell_type": "markdown",
   "metadata": {},
   "source": [
    "## \"Train\" model\n",
    "\n",
    "This model is interesting in that it doesn't need \"training\", and works by comparison at inference time "
   ]
  },
  {
   "cell_type": "code",
   "execution_count": 4,
   "metadata": {},
   "outputs": [],
   "source": [
    "compressor = GZipCompressor()\n",
    "model = KnnClassifier(\n",
    "    compressor=compressor,\n",
    "    training_inputs=X_train.tolist(),\n",
    "    training_labels=y_train.tolist(),\n",
    "    distance_metric=\"ncd\",\n",
    ")"
   ]
  },
  {
   "cell_type": "markdown",
   "metadata": {},
   "source": [
    "## Test outputs"
   ]
  },
  {
   "cell_type": "code",
   "execution_count": 5,
   "metadata": {},
   "outputs": [
    {
     "name": "stderr",
     "output_type": "stream",
     "text": [
      "Compressing input...: 100%|██████████| 250/250 [01:21<00:00,  3.07it/s]\n"
     ]
    },
    {
     "name": "stdout",
     "output_type": "stream",
     "text": [
      "              precision    recall  f1-score   support\n",
      "\n",
      "           0       0.78      0.77      0.77        60\n",
      "           1       0.92      0.87      0.89        76\n",
      "           2       0.58      0.73      0.65        52\n",
      "           3       0.72      0.63      0.67        62\n",
      "\n",
      "    accuracy                           0.76       250\n",
      "   macro avg       0.75      0.75      0.75       250\n",
      "weighted avg       0.77      0.76      0.76       250\n",
      "\n"
     ]
    }
   ],
   "source": [
    "random_indicies = np.random.choice(X_test.shape[0], 250, replace=False)\n",
    "(distances, labels, similar_samples) = model.predict(\n",
    "    X_test[random_indicies].tolist(), 1, sampling_percentage=0.05\n",
    ")\n",
    "\n",
    "report = classification_report(y_test[random_indicies].tolist(), labels.reshape(-1))\n",
    "\n",
    "print(report)"
   ]
  },
  {
   "cell_type": "code",
   "execution_count": 6,
   "metadata": {},
   "outputs": [
    {
     "name": "stderr",
     "output_type": "stream",
     "text": [
      "Compressing input...: 100%|██████████| 1/1 [00:01<00:00,  1.21s/it]\n"
     ]
    }
   ],
   "source": [
    "test_sample = \"Socialites unite dolphin groups Dolphin groups, or 'pods', rely on socialites to keep them from collapsing, scientists claim.\"\n",
    "(_, test_label_list, similar_samples) = model.predict(\n",
    "    [test_sample], 1, sampling_percentage=0.2\n",
    ")\n",
    "test_label = test_label_list[0]"
   ]
  },
  {
   "cell_type": "code",
   "execution_count": 7,
   "metadata": {},
   "outputs": [
    {
     "name": "stdout",
     "output_type": "stream",
     "text": [
      "Label: 0 (World)\n"
     ]
    }
   ],
   "source": [
    "print(f\"Label: {test_label} ({label_map[test_label]})\")"
   ]
  },
  {
   "cell_type": "code",
   "execution_count": 8,
   "metadata": {},
   "outputs": [
    {
     "data": {
      "text/plain": [
       "array([[\"Pigeons 'sense magnetic field' Homing pigeons use the Earth's magnetic field to navigate their way home over long distances, scientists claim.\"]],\n",
       "      dtype='<U1012')"
      ]
     },
     "execution_count": 8,
     "metadata": {},
     "output_type": "execute_result"
    }
   ],
   "source": [
    "similar_samples"
   ]
  },
  {
   "cell_type": "markdown",
   "metadata": {},
   "source": [
    "# Findings\n",
    "\n",
    "This model is super cool! It's slow at inference time but our use case is one-at-a-time inference. Let's try to put it into production!"
   ]
  },
  {
   "cell_type": "markdown",
   "metadata": {},
   "source": []
  }
 ],
 "metadata": {
  "kernelspec": {
   "display_name": ".venv",
   "language": "python",
   "name": "python3"
  },
  "language_info": {
   "codemirror_mode": {
    "name": "ipython",
    "version": 3
   },
   "file_extension": ".py",
   "mimetype": "text/x-python",
   "name": "python",
   "nbconvert_exporter": "python",
   "pygments_lexer": "ipython3",
   "version": "3.10.8"
  },
  "orig_nbformat": 4
 },
 "nbformat": 4,
 "nbformat_minor": 2
}
